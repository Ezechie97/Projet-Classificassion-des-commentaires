{
 "cells": [
  {
   "cell_type": "code",
   "execution_count": null,
   "id": "310fcd57",
   "metadata": {},
   "outputs": [],
   "source": [
    "import requests\n",
    "from bs4 import BeautifulSoup as bs \n",
    "import warnings as wgs\n",
    "wgs.filterwarnings('ignore')\n",
    "import numpy as np"
   ]
  },
  {
   "cell_type": "code",
   "execution_count": null,
   "id": "ff1326f5",
   "metadata": {},
   "outputs": [],
   "source": [
    "URL=[]\n",
    "for i in range(1,11):\n",
    "    URL.append(requests.get('https://www.amazon.fr/JBL-TUNE-510BT-supra-auriculaire-multi-points/product-reviews/B08VD6SRBZ/ref=cm_cr_getr_d_paging_btm_prev_{}?ie=UTF8&reviewerType=all_reviews&pageNumber={}'.format(i,i),headers = {\n",
    "'authority': 'www.amazon.com',\n",
    "'pragma': 'no-cache',\n",
    "'cache-control': 'no-cache',\n",
    "'dnt': '1',\n",
    "'upgrade-insecure-requests': '1',\n",
    "'user-agent': 'Mozilla/5.0 (X11; CrOS x86_64 8172.45.0) AppleWebKit/537.36 (KHTML, like Gecko) Chrome/51.0.2704.64 Safari/537.36',\n",
    "'accept': 'text/html,application/xhtml+xml,application/xml;q=0.9,image/webp,image/apng,*/*;q=0.8,application/signed-exchange;v=b3;q=0.9',\n",
    "'sec-fetch-site': 'none',\n",
    "'sec-fetch-mode': 'navigate',\n",
    "'sec-fetch-dest': 'document',\n",
    "'accept-language': 'en-GB,en-US;q=0.9,en;q=0.8',\n",
    "}))\n",
    "URL"
   ]
  },
  {
   "cell_type": "code",
   "execution_count": null,
   "id": "2f86c123",
   "metadata": {
    "scrolled": true
   },
   "outputs": [],
   "source": [
    "Page=[]\n",
    "for url in URL:\n",
    "    Page.append(bs(url.text,'html.parser'))\n",
    "len(Page)"
   ]
  },
  {
   "cell_type": "code",
   "execution_count": null,
   "id": "44276ee7",
   "metadata": {},
   "outputs": [],
   "source": [
    "M=[]\n",
    "N=[]\n",
    "for i in Page:\n",
    "    M.append(i.find_all('span', attrs={'class': 'a-icon-alt'}))\n",
    "\n",
    "for i in range(len(M)):\n",
    "    u=M[i]\n",
    "    for j in u:\n",
    "        N.append(j.text.split()[0])\n",
    "N\n",
    "\n"
   ]
  },
  {
   "cell_type": "code",
   "execution_count": null,
   "id": "d78745cc",
   "metadata": {},
   "outputs": [],
   "source": [
    "M1=[]\n",
    "N1=[]\n",
    "for i in Page:\n",
    "    M1.append(i.find_all(\"span\",{'data-hook':\"review-body\"}))\n",
    "\n",
    "\n",
    "for i in range(len(M1)):\n",
    "    u=M1[i]\n",
    "    for j in u:\n",
    "        N1.append(j.text.strip().split('\\n'))\n",
    "N1\n",
    "\n"
   ]
  },
  {
   "cell_type": "code",
   "execution_count": null,
   "id": "bcc7ef85",
   "metadata": {},
   "outputs": [],
   "source": [
    "Page[4].find_all('span', attrs={'class': 'a-icon-alt'})"
   ]
  },
  {
   "cell_type": "code",
   "execution_count": null,
   "id": "aa2ce51d",
   "metadata": {},
   "outputs": [],
   "source": [
    "import pandas as pd\n",
    "D1=pd.DataFrame(N1)\n",
    "D1['commentaires']=D1[0]\n",
    "D1.drop(0,axis=1)"
   ]
  },
  {
   "cell_type": "code",
   "execution_count": null,
   "id": "d4eb22cc",
   "metadata": {},
   "outputs": [],
   "source": [
    "import pandas as pd\n",
    "D2=pd.DataFrame(N)\n",
    "D2['sentiment']=D2[0].str.replace(',','.').str.replace('5.0','Positive').str.replace('4.0','Neutre').str.replace('3.0','Neutre').str.replace('2.0','Négative').str.replace('1.0','Négative')\n",
    "D2.drop(0,axis=1,inplace=True)\n",
    "D2"
   ]
  },
  {
   "cell_type": "code",
   "execution_count": null,
   "id": "d2c837ac",
   "metadata": {},
   "outputs": [],
   "source": [
    "data=pd.concat([D1,D2[0:100]],axis=1)\n",
    "data.drop(0,axis=1,inplace=True)\n",
    "data.dropna()\n"
   ]
  },
  {
   "cell_type": "code",
   "execution_count": null,
   "id": "269c64ba",
   "metadata": {},
   "outputs": [],
   "source": [
    "data_positif = data[data['sentiment']=='Positive']\n",
    "data_neutre = data[data['sentiment']=='Neutre']\n",
    "\n",
    "dimb = pd.concat([data_positif,data_neutre])\n",
    "dimb.value_counts(['sentiment'])\n",
    "print(dimb)"
   ]
  },
  {
   "cell_type": "code",
   "execution_count": null,
   "id": "1b9cdd86",
   "metadata": {},
   "outputs": [],
   "source": [
    "pip install imblearn\n"
   ]
  },
  {
   "cell_type": "code",
   "execution_count": null,
   "id": "3bfb35ab",
   "metadata": {},
   "outputs": [],
   "source": [
    "from imblearn.under_sampling import  RandomUnderSampler\n",
    "rus = RandomUnderSampler(random_state=0)\n",
    "dbal, dbal['sentiment']=rus.fit_resample(dimb[['commentaires']],\n",
    "                                                           dimb['sentiment'])\n",
    "dbal\n"
   ]
  },
  {
   "cell_type": "code",
   "execution_count": null,
   "id": "da114ccc",
   "metadata": {},
   "outputs": [],
   "source": [
    "from sklearn.model_selection import train_test_split\n",
    "train, test = train_test_split(dbal, test_size=0.33, random_state=42)"
   ]
  },
  {
   "cell_type": "code",
   "execution_count": null,
   "id": "1d2e4def",
   "metadata": {},
   "outputs": [],
   "source": [
    "x_train, y_train = train['commentaires'], train['sentiment']\n",
    "x_test, y_test = test['commentaires'], test['sentiment']\n",
    "x_test, y_test"
   ]
  },
  {
   "cell_type": "code",
   "execution_count": null,
   "id": "7a24392f",
   "metadata": {},
   "outputs": [],
   "source": [
    "from sklearn.feature_extraction.text import TfidfVectorizer\n",
    "\n",
    "tfidf = TfidfVectorizer(stop_words='english')\n",
    "train_x_vector = tfidf.fit_transform(x_train)\n",
    "# also fit the test_x_vector\n",
    "test_x_vector = tfidf.transform(x_test)\n",
    "train_x_vector"
   ]
  },
  {
   "cell_type": "code",
   "execution_count": null,
   "id": "cb362ac8",
   "metadata": {},
   "outputs": [],
   "source": [
    "pd.DataFrame.sparse.from_spmatrix(train_x_vector,\n",
    "                                  index=x_train.index,\n",
    "                                  columns=tfidf.get_feature_names())"
   ]
  },
  {
   "cell_type": "code",
   "execution_count": null,
   "id": "8b56436b",
   "metadata": {},
   "outputs": [],
   "source": [
    "from sklearn.svm import SVC\n",
    "\n",
    "s_v_c = SVC(kernel='linear')\n",
    "s_v_c.fit(train_x_vector,y_train)"
   ]
  },
  {
   "cell_type": "code",
   "execution_count": null,
   "id": "c89456c7",
   "metadata": {},
   "outputs": [],
   "source": [
    "from sklearn.metrics import plot_confusion_matrix,confusion_matrix\n",
    "\n",
    "plot_confusion_matrix(s_v_c,test_x_vector,y_test)"
   ]
  },
  {
   "cell_type": "code",
   "execution_count": null,
   "id": "0858fa26",
   "metadata": {},
   "outputs": [],
   "source": [
    "TN, FP, FN, TP = confusion_matrix(y_test,  s_v_c.predict(test_x_vector)).ravel()\n",
    "\n",
    "print('True Positive(TP)  = ', TP)\n",
    "print('False Positive(FP) = ', FP)\n",
    "print('True Negative(TN)  = ', TN)\n",
    "print('False Negative(FN) = ', FN)\n",
    "\n",
    "accuracy =  (TP+TN) /(TP+FP+TN+FN)\n",
    "\n",
    "print('Accuracy of the binary classification = {:0.3f}'.format(accuracy))"
   ]
  },
  {
   "cell_type": "code",
   "execution_count": null,
   "id": "e8403195",
   "metadata": {},
   "outputs": [],
   "source": [
    "from sklearn.model_selection import GridSearchCV\n",
    "\n",
    "parameters = {'C': np.linspace(0,3,num=10),'kernel':['linear', 'rbf']}\n",
    "s_v_c = SVC()\n",
    "\n",
    "s_v_c_grid = GridSearchCV(s_v_c,parameters, cv=3)\n",
    "\n",
    "s_v_c_grid.fit(train_x_vector, y_train)"
   ]
  },
  {
   "cell_type": "code",
   "execution_count": null,
   "id": "2894784f",
   "metadata": {},
   "outputs": [],
   "source": [
    "print(s_v_c_grid.best_params_)\n",
    "print(s_v_c_grid.best_estimator_)"
   ]
  },
  {
   "cell_type": "code",
   "execution_count": null,
   "id": "5b3207f8",
   "metadata": {},
   "outputs": [],
   "source": [
    "svc =SVC(C=0.3333333333333333, kernel='linear')\n",
    "svc.fit(train_x_vector,y_train)"
   ]
  },
  {
   "cell_type": "code",
   "execution_count": null,
   "id": "0513cd08",
   "metadata": {},
   "outputs": [],
   "source": [
    "plot_confusion_matrix(s_v_c1,test_x_vector,y_test)"
   ]
  },
  {
   "cell_type": "code",
   "execution_count": null,
   "id": "d4e1b3b9",
   "metadata": {},
   "outputs": [],
   "source": [
    "TN, FP, FN, TP = confusion_matrix(y_test, s_v_c1.predict(test_x_vector)).ravel()\n",
    "\n",
    "print('True Positive(TP)  = ', TP)\n",
    "print('False Positive(FP) = ', FP)\n",
    "print('True Negative(TN)  = ', TN)\n",
    "print('False Negative(FN) = ', FN)\n",
    "\n",
    "accuracy =  (TP+TN) /(TP+FP+TN+FN)\n",
    "\n",
    "print('Accuracy of the binary classification = {:0.3f}'.format(accuracy))"
   ]
  },
  {
   "cell_type": "code",
   "execution_count": null,
   "id": "619c637c",
   "metadata": {},
   "outputs": [],
   "source": [
    "from sklearn.metrics import classification_report\n",
    "\n",
    "print(classification_report(y_test, \n",
    "                            s_v_c1.predict(test_x_vector),\n",
    "                            labels=['positive', 'Neutre']))\n"
   ]
  },
  {
   "cell_type": "code",
   "execution_count": null,
   "id": "dca81586",
   "metadata": {},
   "outputs": [],
   "source": [
    "from sklearn.linear_model import LogisticRegression\n",
    "logreg = LogisticRegression()\n",
    "logreg.fit(train_x_vector, y_train)\n"
   ]
  },
  {
   "cell_type": "code",
   "execution_count": null,
   "id": "6506f635",
   "metadata": {},
   "outputs": [],
   "source": [
    "from sklearn.metrics import plot_confusion_matrix\n",
    "\n",
    "plot_confusion_matrix(logreg,test_x_vector,y_test)"
   ]
  },
  {
   "cell_type": "code",
   "execution_count": null,
   "id": "c5a3c962",
   "metadata": {},
   "outputs": [],
   "source": [
    "TN, FP, FN, TP = confusion_matrix(y_test,  logreg.predict(test_x_vector)).ravel()\n",
    "\n",
    "print('True Positive(TP)  = ', TP)\n",
    "print('False Positive(FP) = ', FP)\n",
    "print('True Negative(TN)  = ', TN)\n",
    "print('False Negative(FN) = ', FN)\n",
    "\n",
    "accuracy =  (TP+TN) /(TP+FP+TN+FN)\n",
    "\n",
    "print('Accuracy of the binary classification = {:0.3f}'.format(accuracy))"
   ]
  },
  {
   "cell_type": "code",
   "execution_count": null,
   "id": "6dd8e359",
   "metadata": {},
   "outputs": [],
   "source": [
    "from sklearn.metrics import classification_report\n",
    "\n",
    "print(classification_report(y_test, \n",
    "                            logreg.predict(test_x_vector),\n",
    "                            labels=['positive', 'Neutre']))\n"
   ]
  },
  {
   "cell_type": "code",
   "execution_count": null,
   "id": "9c50ac82",
   "metadata": {},
   "outputs": [],
   "source": [
    "from sklearn.model_selection import GridSearchCV\n",
    "\n",
    "grid={\"C\":np.logspace(-10,10,4), \"penalty\":[\"l1\",\"l2\"]}# l1 lasso l2 ridge\n",
    "logreg1 = LogisticRegression()\n",
    "logreg1_grid = GridSearchCV(logreg1,grid, cv=5)\n",
    "logreg1_grid.fit(train_x_vector, y_train)"
   ]
  },
  {
   "cell_type": "code",
   "execution_count": null,
   "id": "bc0dd004",
   "metadata": {},
   "outputs": [],
   "source": [
    "print(logreg1_grid.best_params_)\n",
    "print(logreg1_grid.best_estimator_)"
   ]
  },
  {
   "cell_type": "code",
   "execution_count": null,
   "id": "df5fb33e",
   "metadata": {},
   "outputs": [],
   "source": [
    "from sklearn.linear_model import LogisticRegression\n",
    "logreg1 =LogisticRegression(C=1e-10)\n",
    "\n",
    "logreg1.fit(train_x_vector, y_train)\n"
   ]
  },
  {
   "cell_type": "code",
   "execution_count": null,
   "id": "94ced3e1",
   "metadata": {},
   "outputs": [],
   "source": [
    "plot_confusion_matrix(logreg1,test_x_vector,y_test)"
   ]
  },
  {
   "cell_type": "code",
   "execution_count": null,
   "id": "4d34014a",
   "metadata": {},
   "outputs": [],
   "source": [
    "TN, FP, FN, TP = confusion_matrix(y_test,  logreg1.predict(test_x_vector)).ravel()\n",
    "\n",
    "print('True Positive(TP)  = ', TP)\n",
    "print('False Positive(FP) = ', FP)\n",
    "print('True Negative(TN)  = ', TN)\n",
    "print('False Negative(FN) = ', FN)\n",
    "\n",
    "accuracy =  (TP+TN) /(TP+FP+TN+FN)\n",
    "\n",
    "print('Accuracy of the binary classification = {:0.3f}'.format(accuracy))"
   ]
  },
  {
   "cell_type": "code",
   "execution_count": null,
   "id": "4e03dc27",
   "metadata": {},
   "outputs": [],
   "source": [
    "from sklearn.metrics import classification_report\n",
    "\n",
    "print(classification_report(y_test, \n",
    "                            logreg1.predict(test_x_vector),\n",
    "                            labels=['positive', 'Neutre']))\n"
   ]
  },
  {
   "cell_type": "code",
   "execution_count": null,
   "id": "fc929a7e",
   "metadata": {},
   "outputs": [],
   "source": []
  },
  {
   "cell_type": "code",
   "execution_count": null,
   "id": "2e2c2caa",
   "metadata": {},
   "outputs": [],
   "source": []
  }
 ],
 "metadata": {
  "kernelspec": {
   "display_name": "Python 3 (ipykernel)",
   "language": "python",
   "name": "python3"
  },
  "language_info": {
   "codemirror_mode": {
    "name": "ipython",
    "version": 3
   },
   "file_extension": ".py",
   "mimetype": "text/x-python",
   "name": "python",
   "nbconvert_exporter": "python",
   "pygments_lexer": "ipython3",
   "version": "3.9.7"
  }
 },
 "nbformat": 4,
 "nbformat_minor": 5
}
